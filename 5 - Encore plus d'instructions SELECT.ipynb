{
 "cells": [
  {
   "cell_type": "markdown",
   "metadata": {},
   "source": [
    "# Encore plus d'instructions SELECT"
   ]
  },
  {
   "cell_type": "markdown",
   "metadata": {},
   "source": [
    "Les instructions SELECT permettent de récupérer des informations de la base de données et des tables.\n",
    "\n",
    "Cette instruction, associée à un ensemble de filtres et de fonctions, nous aidera à chercher des informations précises.\n",
    "\n",
    "Les instructions SELECT permettent de récupérer des informations mais ne modifient pas l'état de la base de données et des tables."
   ]
  },
  {
   "cell_type": "markdown",
   "metadata": {},
   "source": [
    "## Selectionner un nombre limité de lignes.\n",
    "\n",
    "Sélectionner toutes les lignes peut s'avérer lourd en calcul et créer des requêtes qui prennent du temps à s'éxécuter ou ne s'éxécutent pas.\n",
    "\n",
    "Pour sélectionner un nombre défini de lignes, on utilise la clause LIMIT.\n",
    "\n",
    "C'est une bonne technique pour avoir un aperçu des données de la table.\n",
    "\n",
    "On sélectionne uniquement 5 clients.\n",
    "\n",
    "`SELECT * from client LIMIT 5;`"
   ]
  },
  {
   "cell_type": "markdown",
   "metadata": {},
   "source": [
    "## Renommer une colonne\n",
    "\n",
    "On peut renommer une colonne dans une requête en lui donnant un alias avec le mot-clé AS.\n",
    "\n",
    "La colonne product_description s'appelle désormais description (uniquement dans la requête SELECT, la table n'est pas modifiée.)\n",
    "\n",
    "`SELECT  product_name, product_description AS description\n",
    "\tFROM public.product LIMIT 10;`"
   ]
  },
  {
   "cell_type": "markdown",
   "metadata": {},
   "source": [
    "### Trier les colonnes\n",
    "\n",
    "La clause ORDER BY permet de trier des des colonnes par ordre numérique ou alphabétique.\n",
    "\n",
    "Le mot-clé ASC (ascending) trie les données du plus petit au plus grand (de A à Z).\n",
    "\n",
    "Le mot-clé DESC (descending) trie les données du plus grand au plus petit (de Z à A).\n",
    "\n",
    "Tri les noms par ordre croissant :\n",
    "\n",
    "`SELECT first_name, birth_date FROM client ORDER BY first_name ASC LIMIT 10;`\n",
    "\n",
    "Tri par odate de naissance décroissante :\n",
    "\n",
    "`SELECT first_name, birth_date FROM client ORDER BY birth_date DESC LIMIT 10;`\n",
    "\n",
    "Renomme la colonne last_name et tri par nom de famille croissant et date de naissance décroissante :\n",
    "\n",
    "`SELECT first_name, last_name AS family_name, birth_date FROM client ORDER BY family_name ASC, birth_date DESC LIMIT 10;`"
   ]
  },
  {
   "cell_type": "markdown",
   "metadata": {},
   "source": [
    "## Opérations mathématiques\n",
    "\n",
    "SQL offre la possibilité de réaliser des opérations mathématiques sur des colonnes.\n",
    "\n",
    "<center>\n",
    "\n",
    "| Symbole | opération            | exemple         |\n",
    "|--------|-----------------------|-----------------|\n",
    "| +      | Addition              | 6 + 4 = 10      |\n",
    "| -      | Soustraction          | 6 - 4 = 2       |\n",
    "| *      | Multiplication        | 6 * 4 = 24      |\n",
    "| /      | Division réelle       | 6 / 4 = 1.5     |\n",
    "| ^      | Exposant              | 12 ** 2 = 144   |\n",
    "</center>\n",
    "\n"
   ]
  },
  {
   "cell_type": "markdown",
   "metadata": {},
   "source": [
    "### Prix total\n",
    "\n",
    "Dans la table transaction, on a la quantité achetée et le prix unitaire. Si on multiplie ces deux colonnes, on obtient le prix total (total_price).\n",
    "\n",
    "`SELECT *,  quantity * unit_price AS total_price FROM transaction;`"
   ]
  },
  {
   "cell_type": "markdown",
   "metadata": {},
   "source": [
    "## Fonctions d'agrégation\n",
    "\n",
    "Les fonctions d'agrégation permettent de réaliser des statistiques de bases sur les enregistrements.\n",
    "\n",
    "Les 5 fonctions sont :\n",
    "\n",
    "<center>\n",
    "<table>\n",
    "<tr>\n",
    "    <th>Fonction</th>\n",
    "    <th>Description</th>\n",
    "</tr>\n",
    "<tr>\n",
    "    <td>SUM()</td>\n",
    "    <td>somme des lignes de la colonne</td>\n",
    "</tr>\n",
    "<tr>\n",
    "    <td>AVG()</td>\n",
    "    <td>moyenne des lignes de la colonne</td>\n",
    "</tr>\n",
    "<tr>\n",
    "    <td>MAX()</td>\n",
    "    <td>max des lignes de la colonne</td>\n",
    "</tr>\n",
    "<tr>\n",
    "    <td>MIN()</td>\n",
    "    <td>min des lignes de la colonne</td>\n",
    "</tr>\n",
    "<tr>\n",
    "    <td>COUNT()</td>\n",
    "    <td>compte le nombre de lignes de la colonne</td>\n",
    "</tr>\n",
    "\n",
    "</table>\n",
    "</center>"
   ]
  },
  {
   "cell_type": "markdown",
   "metadata": {},
   "source": [
    "### Somme\n",
    "\n",
    "Quantité totale achetée\n",
    "\n",
    "`SELECT SUM(quantity) AS sum_quantity FROM transaction;`"
   ]
  },
  {
   "cell_type": "markdown",
   "metadata": {},
   "source": [
    "### Moyenne\n",
    "\n",
    "Quantité moyenne achetée\n",
    "\n",
    "`SELECT AVG(quantity) AS average_quantity FROM transaction;`"
   ]
  },
  {
   "cell_type": "markdown",
   "metadata": {},
   "source": [
    "### Max\n",
    "\n",
    "Prix unitaire max\n",
    "\n",
    "`SELECT MAX(unit_price) AS max_unit_price FROM transaction;`"
   ]
  },
  {
   "cell_type": "markdown",
   "metadata": {},
   "source": [
    "### Min\n",
    "\n",
    "Prix unitaire min\n",
    "\n",
    "`SELECT MIN(unit_price) AS min_unit_price FROM transaction;`"
   ]
  },
  {
   "cell_type": "markdown",
   "metadata": {},
   "source": [
    "### Compte\n",
    "\n",
    "Compte le nombre de transactions\n",
    "\n",
    "`SELECT COUNT(client_id) AS nb_transaction FROM transaction;`"
   ]
  },
  {
   "cell_type": "markdown",
   "metadata": {},
   "source": [
    "## Regroupement GROUP BY\n",
    "\n",
    "Les fonctions d'agrégation s'utilisent avec la commande GROUP BY. On peut ainsi agréger des données comme dans un tableau croisé dynamique."
   ]
  },
  {
   "cell_type": "markdown",
   "metadata": {},
   "source": [
    "On trouve la quantité moyenne achetée et le nombre de produits acheté par chaque client.\n",
    "\n",
    "`SELECT client_id, \n",
    "AVG(quantity) AS average_quantity,\n",
    "COUNT(unit_price) AS nb_transaction\n",
    "FROM transaction\n",
    "GROUP BY client_id;`"
   ]
  },
  {
   "cell_type": "markdown",
   "metadata": {},
   "source": [
    "## Filtrer par agrégat avec HAVING\n",
    "\n",
    "La clause HAVING est similaire à la condition WHERE, elle permet de filter sur des agrégats."
   ]
  },
  {
   "cell_type": "markdown",
   "metadata": {},
   "source": [
    "On sélectionne les clients qui ont commandent en moyenne plus de 3 articles.\n",
    "\n",
    "`SELECT client_id, AVG(quantity)  FROM transaction\n",
    "GROUP BY client_id\n",
    "HAVING AVG(quantity) > 3;`"
   ]
  }
 ],
 "metadata": {
  "language_info": {
   "name": "python"
  }
 },
 "nbformat": 4,
 "nbformat_minor": 2
}
