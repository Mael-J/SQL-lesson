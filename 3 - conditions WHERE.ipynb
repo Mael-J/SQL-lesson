{
 "cells": [
  {
   "cell_type": "markdown",
   "metadata": {},
   "source": [
    "# Conditions WHERE\n",
    "\n",
    "On peut sélectionner des lignes spécifiques avec la condition `WHERE`.\n",
    "\n",
    "La conditions acceptent les opérateurs logiques pour filtrer les données recherchées."
   ]
  },
  {
   "cell_type": "markdown",
   "metadata": {},
   "source": [
    "<center>\n",
    "<table>\n",
    "<tr>\n",
    "    <th>Opérateur</th>\n",
    "    <th>Description</th>\n",
    "</tr>\n",
    "<tr>\n",
    "    <td>=</td>\n",
    "    <td>Egal</td>\n",
    "</tr>\n",
    "<tr>\n",
    "    <td><> ou !=</td>\n",
    "    <td>différent de</td>\n",
    "</tr>\n",
    "<tr>\n",
    "    <td>></td>\n",
    "    <td>Strictement plus grand que</td>\n",
    "</tr>\n",
    "<tr>\n",
    "    <td><</td>\n",
    "    <td>Strictement plus petit que</td>\n",
    "</tr>\n",
    "<tr>\n",
    "    <td>>=</td>\n",
    "    <td>PLus grand ou égal à</td>\n",
    "</tr>\n",
    "<tr>\n",
    "    <td><=</td>\n",
    "    <td>PLus petit ou égal à</td>\n",
    "</tr>\n",
    "<tr>\n",
    "    <td>AND</td>\n",
    "    <td>ET logique, sélectionne les lignes où chaque condition est vérifiée</td>\n",
    "</tr>\n",
    "\n",
    "<tr>\n",
    "    <td>OR</td>\n",
    "    <td> OU logique, sélectionne les lignes où une condition est vérifiée</td>\n",
    "</tr>\n",
    "<tr>\n",
    "    <td>IN</td>\n",
    "    <td>Liste de plusieurs valeurs possibles</td>\n",
    "</tr>\n",
    "<tr>\n",
    "    <td>BETWEEN</td>\n",
    "    <td>Valeur comprise dans un intervalle donnée (utile pour les nombres ou dates)</td>\n",
    "</tr>\n",
    "\n",
    "<tr>\n",
    "    <td>LIKE</td>\n",
    "    <td>Recherche en spécifiant le début, milieu ou fin d'un mot (s'utilise avec des méta-caractères)</td>\n",
    "</tr>\n",
    "\n",
    "<tr>\n",
    "    <td>IS NULL</td>\n",
    "    <td>Valeur est nulle</td>\n",
    "</tr>\n",
    "\n",
    "<tr>\n",
    "    <td>NOT</td>\n",
    "    <td>not X. N'est Pas, si X == True, donne False. Si X == False, donne True</td>\n",
    "</tr>\n",
    "\n",
    "\n",
    "</table>\n",
    "</center>"
   ]
  },
  {
   "cell_type": "markdown",
   "metadata": {},
   "source": [
    "Nous reprenons la base de données learning, le schéma public des exercices précédents pour exécuter les requêtes SQL ci dessous."
   ]
  },
  {
   "cell_type": "markdown",
   "metadata": {},
   "source": [
    "## Egal\n",
    "\n",
    "Ici nous sélectionnons uniquement le produit qui porte l'`id` 1.\n",
    "\n",
    "`SELECT id, product_name, product_description\n",
    "\tFROM product\n",
    "\tWHERE id = 1;`"
   ]
  },
  {
   "cell_type": "markdown",
   "metadata": {},
   "source": [
    "## différent de\n",
    "\n",
    "Sélection des produits qui ne portent pas l'`id` 1.\n",
    "\n",
    "`SELECT id, product_name, product_description\n",
    "\tFROM product\n",
    "\tWHERE id != 1;`\n",
    "\n",
    "On peut également écrire :\n",
    "\n",
    "`SELECT id, product_name, product_description\n",
    "\tFROM product\n",
    "\tWHERE id <> 1;`"
   ]
  },
  {
   "cell_type": "markdown",
   "metadata": {},
   "source": [
    "## Plus grand et plus petit\n",
    "\n",
    "On récupère les transactions avec une quantité supérieure à 5\n",
    "\n",
    "`SELECT * FROM transaction WHERE quantity >= 5;`\n",
    "\n",
    "On sélectionne les transactions avec un prix unitaire strictement inférieur à 10.\n",
    "\n",
    "`SELECT * FROM transaction WHERE unit_price < 10;`"
   ]
  },
  {
   "cell_type": "markdown",
   "metadata": {},
   "source": [
    "## Dans une liste (IN)\n",
    "\n",
    "Sélectionne les produits dont le nom est dans la liste.\n",
    "\n",
    "`SELECT *\n",
    "\tFROM product\n",
    "\tWHERE product_name IN ('feu', 'pipette', 'crayon');`\n",
    "\n",
    "NB : Une liste en SQL s'écrit entre parenthèse, les valeurs sont séparées par des `,`"
   ]
  },
  {
   "cell_type": "markdown",
   "metadata": {},
   "source": [
    "## Entre deux valeurs\n",
    "\n",
    "Sélectionne les clients nés pendant le Moyen-Âge.\n",
    "\n",
    "`SELECT * FROM client WHERE birth_date BETWEEN '476-09-04' AND '1453-05-29';`"
   ]
  },
  {
   "cell_type": "markdown",
   "metadata": {},
   "source": [
    "## Valeur nulle\n",
    "\n",
    "Sélectionne les clients qui n'ont pas de deuxième prénom.\n",
    "\n",
    "`SELECT * FROM client WHERE middle_name is NULL;`"
   ]
  },
  {
   "cell_type": "markdown",
   "metadata": {},
   "source": [
    "## N'est pas\n",
    "\n",
    "Sélectionne les clients qui ont un deuxième prénom.\n",
    "\n",
    "`SELECT * FROM client WHERE middle_name is NOT NULL;`\n",
    "\n",
    "Sélectionne les produits dont le nom n'est dans la liste.\n",
    "\n",
    "`SELECT *\n",
    "\tFROM product\n",
    "\tWHERE product_name NOT IN ('feu', 'pipette', 'crayon');`"
   ]
  },
  {
   "cell_type": "markdown",
   "metadata": {},
   "source": [
    "## Multiples conditions\n",
    "\n",
    "On peut sélectionner multiplier les conditions avec les opérateurs logiques `AND` et `OR`."
   ]
  },
  {
   "cell_type": "markdown",
   "metadata": {},
   "source": [
    "### ET logique\n",
    "On sélectionne les transactions avec le client_id = 17 and une quantité strictement supérieure à 55.\n",
    "\n",
    "`SELECT * FROM transaction WHERE client_id = 17 AND quantity > 55`"
   ]
  },
  {
   "cell_type": "markdown",
   "metadata": {},
   "source": [
    "### OU logique\n",
    "\n",
    "On sélectionne ici toutes les colonnes dont le produit porte l'`id` 1 ou le nom est livre.\n",
    "\n",
    "`SELECT *\n",
    "\tFROM product\n",
    "\tWHERE id = 1 OR product_name IN ('livre', 'fusée');`"
   ]
  },
  {
   "cell_type": "markdown",
   "metadata": {},
   "source": [
    "### Association de ET et OU\n",
    "\n",
    "Le produit doit porter l'`id` 1 ou être dans la liste livre, fusée et avoir un poids supérieur à 10.\n",
    "\n",
    "`SELECT *\n",
    "\tFROM product\n",
    "\tWHERE (id = 1 OR product_name IN ('livre', 'fusée'))\n",
    "\tAND product_weight > 10;`"
   ]
  },
  {
   "cell_type": "markdown",
   "metadata": {},
   "source": [
    "La clause WHERE fonctionne pour les instructions SELECT, mais également pour les instructions UPDATE et DELETE que nous allons voir dans le chapitre suivant."
   ]
  }
 ],
 "metadata": {
  "kernelspec": {
   "display_name": "Python 3",
   "language": "python",
   "name": "python3"
  },
  "language_info": {
   "codemirror_mode": {
    "name": "ipython",
    "version": 3
   },
   "file_extension": ".py",
   "mimetype": "text/x-python",
   "name": "python",
   "nbconvert_exporter": "python",
   "pygments_lexer": "ipython3",
   "version": "3.10.6"
  }
 },
 "nbformat": 4,
 "nbformat_minor": 2
}
